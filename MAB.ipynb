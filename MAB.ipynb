{
 "cells": [
  {
   "cell_type": "code",
   "execution_count": 6,
   "metadata": {
    "collapsed": true
   },
   "outputs": [],
   "source": [
    "import matplotlib.pyplot as plt\n",
    "import seaborn as sns\n",
    "import numpy as np\n",
    "%matplotlib inline"
   ]
  },
  {
   "cell_type": "code",
   "execution_count": 7,
   "metadata": {
    "collapsed": true
   },
   "outputs": [],
   "source": [
    "import agent\n",
    "import arms"
   ]
  },
  {
   "cell_type": "code",
   "execution_count": 8,
   "metadata": {},
   "outputs": [],
   "source": [
    "def avg(l):\n",
    "    #gives back the average; used to find average reward\n",
    "    return sum(l)/len(l)\n",
    "\n",
    "def maxreward(arms):\n",
    "    #Max rewards\n",
    "    a= [arm.mu for arm in arms]\n",
    "    return max(a)\n",
    "\n",
    "def avgreward(rewards):\n",
    "    ans = []\n",
    "    ans[0]=rewards[0]\n",
    "    for i in range(1,len(rewards)):\n",
    "        ans[i]= ans[i-1]+reards[i]\n",
    "    for i in range(len(rewards)):\n",
    "        ans[i]/=\n"
   ]
  },
  {
   "cell_type": "code",
   "execution_count": 19,
   "metadata": {},
   "outputs": [],
   "source": [
    "def test(agents, iterations):\n",
    "    for agent in agents:\n",
    "        print(agent)\n",
    "        agent.gamble(iterations)\n",
    "        print(\"maximum possible reward:\", maxreward(levers))\n",
    "        print(\"average reward:\", avg(agent.reward_history))\n",
    "        temp = [ arm.mu for arm in levers] \n",
    "        a = np.zeros_like(agent.expectations)\n",
    "        a[temp.index(max(temp))] = 1\n",
    "        print(a)\n",
    "        print(agent.policy())\n",
    "        print(\"cosine simmmilarity\" ,np.sum(np.multiply(agent.policy(), a)))\n",
    "    \n",
    "        #plt.plot(rewards)\n",
    "        #plt.ylabel('Rewards')\n",
    "        #plt.xlabel('Iteration')\n",
    "        #plt.show()\n",
    "    \n",
    "        plt.scatter(range(len(agent.choice_history)),y=agent.choice_history)\n",
    "        plt.title(\"Choices\")\n",
    "        plt.xlabel(\"time\")\n",
    "        plt.ylabel(\"arm\")\n",
    "        plt.show()\n",
    "        print(\"\\n\")\n",
    "    \n",
    "    "
   ]
  },
  {
   "cell_type": "code",
   "execution_count": 22,
   "metadata": {},
   "outputs": [
    {
     "data": {
      "text/plain": [
       "[<matplotlib.lines.Line2D at 0x7f8836f9c550>]"
      ]
     },
     "execution_count": 22,
     "metadata": {},
     "output_type": "execute_result"
    },
    {
     "data": {
      "image/png": "[encoded data removed]",
      "text/plain": [
       "<matplotlib.figure.Figure at 0x7f8837292198>"
      ]
     },
     "metadata": {},
     "output_type": "display_data"
    }
   ],
   "source": [
    "levers = arms.get_arms(10)\n",
    "\n",
    "agents = [\n",
    "    #agent.epsilon_greedy(levers, epsilon=1),\n",
    "    agent.greedy_with_reccurence(levers, alpha=0.),\n",
    "    agent.ucb(levers)\n",
    "\n",
    "]\n",
    "plt.plot([ arm.mu for arm in levers] )"
   ]
  },
  {
   "cell_type": "code",
   "execution_count": 24,
   "metadata": {
    "scrolled": false
   },
   "outputs": [
    {
     "name": "stdout",
     "output_type": "stream",
     "text": [
      "<agent.greedy_with_reccurence object at 0x7f8837026e48>\n",
      "maximum possible reward: 0.890663378091\n",
      "average reward: [ 0.88499946]\n",
      "[ 0.  0.  0.  0.  0.  1.  0.  0.  0.  0.]\n",
      "[ 0.  0.  0.  0.  0.  1.  0.  0.  0.  0.]\n",
      "cosine simmmilarity 1.0\n"
     ]
    },
    {
     "data": {
      "image/png": "[encoded data removed]",
      "text/plain": [
       "<matplotlib.figure.Figure at 0x7f88371adc88>"
      ]
     },
     "metadata": {},
     "output_type": "display_data"
    },
    {
     "name": "stdout",
     "output_type": "stream",
     "text": [
      "\n",
      "\n",
      "<agent.ucb object at 0x7f8837026550>\n",
      "maximum possible reward: 0.890663378091\n",
      "average reward: [ 0.88515231]\n",
      "[ 0.  0.  0.  0.  0.  1.  0.  0.  0.  0.]\n",
      "[ 0.  0.  0.  0.  0.  1.  0.  0.  0.  0.]\n",
      "cosine simmmilarity 1.0\n"
     ]
    },
    {
     "data": {
      "image/png": "[encoded data removed]",
      "text/plain": [
       "<matplotlib.figure.Figure at 0x7f8837046400>"
      ]
     },
     "metadata": {},
     "output_type": "display_data"
    },
    {
     "name": "stdout",
     "output_type": "stream",
     "text": [
      "\n",
      "\n"
     ]
    }
   ],
   "source": [
    "test(agents, 10000)"
   ]
  },
  {
   "cell_type": "code",
   "execution_count": null,
   "metadata": {
    "collapsed": true
   },
   "outputs": [],
   "source": []
  },
  {
   "cell_type": "code",
   "execution_count": null,
   "metadata": {
    "collapsed": true
   },
   "outputs": [],
   "source": []
  },
  {
   "cell_type": "code",
   "execution_count": null,
   "metadata": {
    "collapsed": true
   },
   "outputs": [],
   "source": []
  }
 ],
 "metadata": {
  "kernelspec": {
   "display_name": "Python 3",
   "language": "python",
   "name": "python3"
  }
 },
 "nbformat": 4,
 "nbformat_minor": 2
}
