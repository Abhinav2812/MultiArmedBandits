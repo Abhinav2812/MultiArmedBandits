{
 "cells": [
  {
   "cell_type": "code",
   "execution_count": null,
   "metadata": {
    "collapsed": true
   },
   "outputs": [],
   "source": [
    "import matplotlib.pyplot as plt\n",
    "import seaborn as sns\n",
    "import numpy as np\n",
    "%matplotlib inline"
   ]
  },
  {
   "cell_type": "markdown",
   "metadata": {},
   "source": [
    "# Modules\n",
    "\n",
    "### agent\n",
    "This is a module I wrote as a way of reducing redundant code, which also helped making experiments with these agents easier, check the end of the notebook for code. or check [repo](https://github.com/arjunbazinga/MultiArmedBandits).\n",
    "\n",
    "### arms\n",
    "This implements basic arm which samples from a normal distribution with some fixed mean and deviation, which is randomly initialised.\n"
   ]
  },
  {
   "cell_type": "code",
   "execution_count": 2,
   "metadata": {
    "collapsed": true
   },
   "outputs": [],
   "source": [
    "import agent\n",
    "import arms"
   ]
  },
  {
   "cell_type": "code",
   "execution_count": 27,
   "metadata": {
    "collapsed": true
   },
   "outputs": [],
   "source": [
    "def avg(l):\n",
    "    #gives back the average; used to find average reward\n",
    "    return sum(l)/len(l)\n",
    "\n",
    "def maxreward(arms):\n",
    "    #Max rewards\n",
    "    a= [arm.mu for arm in arms]\n",
    "    return max(a)\n",
    "\n",
    "def avgreward(rewards):\n",
    "    ans = []\n",
    "    ans.append(rewards[0])\n",
    "    for i in range(1,len(rewards)):\n",
    "        ans.append(ans[i-1]+rewards[i])\n",
    "    for i in range(len(ans)):\n",
    "        ans[i]/=i+1\n",
    "    return ans\n",
    "\n",
    "def cosine_similarity(a,b):\n",
    "    temp = a*b\n",
    "    temp/=(euclid_distance(a)* euclid_distance(b))\n",
    "    return np.sum(temp, axis=0)\n",
    "    \n",
    "def euclid_distance(a):\n",
    "    return np.sqrt(np.sum(a*a, axis=0))"
   ]
  },
  {
   "cell_type": "code",
   "execution_count": 55,
   "metadata": {
    "collapsed": true
   },
   "outputs": [],
   "source": [
    "def test(agents, iterations):\n",
    "    for agent in agents:\n",
    "        print(agent)\n",
    "        agent.gamble(iterations)\n",
    "        temp = [ arm.mu for arm in levers] \n",
    "        optimal = np.zeros_like(agent.expectations)\n",
    "        optimal[temp.index(max(temp))] = 1\n",
    "        \n",
    "        \n",
    "        \n",
    "        print(\"maximum possible reward:\", maxreward(levers))\n",
    "        print(\"average reward:\", avg(agent.reward_history))\n",
    "        \n",
    "        plt.plot(avgreward(agent.reward_history))\n",
    "        plt.ylabel('Average Reward')\n",
    "        plt.xlabel('Iteration')\n",
    "        plt.show()\n",
    "    \n",
    "        \n",
    "        \n",
    "        print(\"cosine simmmilarity\" ,cosine_similarity(agent.policy(), optimal))\n",
    "        print(\"euclidian distance \",euclid_distance(agent.policy()-optimal)/len(optimal))\n",
    "        print(\"\\n\")\n",
    "        \n",
    "        # print(\"optimal policy:\" , optimal)\n",
    "        # print(\"learnt policy:\" ,agent.policy())\n",
    "        \n",
    "    \n",
    "        \n",
    "        # plt.scatter(range(len(agent.choice_history)),y=agent.choice_history)\n",
    "        # plt.title(\"Choices\")\n",
    "        # plt.xlabel(\"time\")\n",
    "        # plt.ylabel(\"arm\")\n",
    "        # plt.show()\n",
    "        # print(\"\\n\")\n",
    "    \n",
    "    "
   ]
  },
  {
   "cell_type": "code",
   "execution_count": 59,
   "metadata": {},
   "outputs": [
    {
     "data": {
      "text/plain": [
       "<matplotlib.text.Text at 0x7f4d4d865c50>"
      ]
     },
     "execution_count": 59,
     "metadata": {},
     "output_type": "execute_result"
    },
    {
     "data": {
      "image/png": "[encoded data removed]",
      "text/plain": [
       "<matplotlib.figure.Figure at 0x7f4d4d102ac8>"
      ]
     },
     "metadata": {},
     "output_type": "display_data"
    }
   ],
   "source": [
    "levers = arms.get_arms(10)\n",
    "\n",
    "agents = [\n",
    "    agent.epsilon_greedy(levers, epsilon=1),\n",
    "    agent.epsilon_greedy(levers, epsilon=0),\n",
    "    agent.softmax(levers, beta=0.1),\n",
    "    agent.ucb(levers)\n",
    "\n",
    "]\n",
    "plt.plot([ arm.mu for arm in levers] )\n",
    "plt.title(\"distribution of expected value of arms\")"
   ]
  },
  {
   "cell_type": "code",
   "execution_count": 57,
   "metadata": {
    "scrolled": false
   },
   "outputs": [
    {
     "name": "stdout",
     "output_type": "stream",
     "text": [
      "<agent.epsilon_greedy object at 0x7f4d4dbc0710>\n",
      "maximum possible reward: 0.876691089295\n",
      "average reward: [ 0.45785394]\n"
     ]
    },
    {
     "data": {
      "image/png": "[encoded data removed]",
      "text/plain": [
       "<matplotlib.figure.Figure at 0x7f4d4d997be0>"
      ]
     },
     "metadata": {},
     "output_type": "display_data"
    },
    {
     "name": "stdout",
     "output_type": "stream",
     "text": [
      "cosine simmmilarity 0.316227766017\n",
      "euclidian distance  0.0948683298051\n",
      "\n",
      "\n",
      "<agent.epsilon_greedy object at 0x7f4d4d7bd2e8>\n",
      "maximum possible reward: 0.876691089295\n",
      "average reward: [ 0.86668801]\n"
     ]
    },
    {
     "data": {
      "image/png": "[encoded data removed]",
      "text/plain": [
       "<matplotlib.figure.Figure at 0x7f4d4d945588>"
      ]
     },
     "metadata": {},
     "output_type": "display_data"
    },
    {
     "name": "stdout",
     "output_type": "stream",
     "text": [
      "cosine simmmilarity 1.0\n",
      "euclidian distance  0.0\n",
      "\n",
      "\n",
      "<agent.softmax object at 0x7f4d4d7bd4e0>\n",
      "maximum possible reward: 0.876691089295\n",
      "average reward: [ 0.82350785]\n"
     ]
    },
    {
     "data": {
      "image/png": "[encoded data removed]",
      "text/plain": [
       "<matplotlib.figure.Figure at 0x7f4d4dab1470>"
      ]
     },
     "metadata": {},
     "output_type": "display_data"
    },
    {
     "name": "stdout",
     "output_type": "stream",
     "text": [
      "cosine simmmilarity 0.999406869917\n",
      "euclidian distance  0.00756982505062\n",
      "\n",
      "\n",
      "<agent.ucb object at 0x7f4d4d29d278>\n",
      "maximum possible reward: 0.876691089295\n",
      "average reward: [ 0.84173303]\n"
     ]
    },
    {
     "data": {
      "image/png": "[encoded data removed]",
      "text/plain": [
       "<matplotlib.figure.Figure at 0x7f4d4d18da90>"
      ]
     },
     "metadata": {},
     "output_type": "display_data"
    },
    {
     "name": "stdout",
     "output_type": "stream",
     "text": [
      "cosine simmmilarity 1.0\n",
      "euclidian distance  0.0\n",
      "\n",
      "\n"
     ]
    }
   ],
   "source": [
    "test(agents, 10000)"
   ]
  },
  {
   "cell_type": "markdown",
   "metadata": {},
   "source": [
    "## Appendix\n",
    "Below is the code for agent and arms modules. This is in no way complete. See issues or todo for future plans."
   ]
  },
  {
   "cell_type": "code",
   "execution_count": null,
   "metadata": {},
   "outputs": [],
   "source": [
    "# %load agent\n",
    "import numpy as np\n",
    "\n",
    "\n",
    "class agent:\n",
    "    def __init__(self, arms, play_once=1):\n",
    "        self.expectations = np.zeros(len(arms))\n",
    "        self.times_played = np.zeros(len(arms))\n",
    "        self.arms = arms\n",
    "\n",
    "        self.number_of_arms = len(arms)\n",
    "        self.N = 0\n",
    "\n",
    "        self.reward_history = []\n",
    "        self.choice_history = []\n",
    "\n",
    "        if play_once == 1:\n",
    "            for i in range(self.number_of_arms):\n",
    "                self.expectations[i] = self.play(i)\n",
    "\n",
    "    def play(self, index):\n",
    "        reward = self.arms[index].pull()\n",
    "\n",
    "        self.times_played[index] += 1\n",
    "        self.N += 1\n",
    "\n",
    "        self.choice_history.append(index)\n",
    "        self.reward_history.append(reward)\n",
    "\n",
    "        return reward\n",
    "\n",
    "    def policy(self):\n",
    "        pass\n",
    "\n",
    "    def update_expectations(self, reward, index):\n",
    "        self.expectations[index] += (reward - self.expectations[index])/self.N\n",
    "\n",
    "    def select_arm(self):\n",
    "        options = range(self.number_of_arms)\n",
    "        i = np.random.choice(options, p=self.policy(), replace=False)\n",
    "        return i\n",
    "\n",
    "    def gamble(self, iterations):\n",
    "        for i in range(iterations):\n",
    "            index = self.select_arm()\n",
    "            reward = self.play(index)\n",
    "            self.update_expectations(reward, index)\n",
    "\n",
    "\n",
    "class ucb(agent):\n",
    "\n",
    "    def __init__(self, arms, play_once=1):\n",
    "        super().__init__(arms, play_once)\n",
    "\n",
    "    def policy(self):\n",
    "        temp = self.expectations + np.sqrt(2*np.log(self.N)/self.times_played)\n",
    "        ans = np.zeros_like(temp)\n",
    "        ans[np.argmax(temp)] = 1\n",
    "        return ans\n",
    "\n",
    "\n",
    "class softmax(agent):\n",
    "\n",
    "    def __init__(self, arms, play_once=1, beta=1):\n",
    "        super().__init__(arms, play_once)\n",
    "        self.beta = beta\n",
    "\n",
    "    def policy(self):\n",
    "        temp = np.exp(self.expectations/self.beta)\n",
    "        ans = temp / np.sum(temp, axis=0)\n",
    "        return ans\n",
    "\n",
    "\n",
    "class epsilon_greedy(agent):\n",
    "\n",
    "    def __init__(self, arms, play_once=1, epsilon=0.1):\n",
    "        super().__init__(arms, play_once)\n",
    "        self.epsilon = epsilon\n",
    "\n",
    "    def policy(self):\n",
    "        temp = np.zeros_like(self.expectations)\n",
    "        temp[np.argmax(self.expectations)] = 1-self.epsilon\n",
    "        ans = temp + self.epsilon/self.number_of_arms\n",
    "        return ans\n",
    "\n",
    "\n",
    "class softmax_with_exponentiation(agent):\n",
    "\n",
    "    def __init__(self, arms, play_once=1, beta=1, exp=1):\n",
    "        super().__init__(arms, play_once)\n",
    "        self.beta = beta\n",
    "        self.exp = exp\n",
    "\n",
    "    def policy(self):\n",
    "        temp = np.exp(self.expectations/self.beta)\n",
    "        ans = temp / np.sum(temp, axis=0)\n",
    "        ans = ans**self.exp\n",
    "        ans /= np.sum(ans, axis=0)\n",
    "        return ans\n",
    "\n",
    "\n",
    "class softmax_with_reccurence(agent):\n",
    "\n",
    "    def __init__(self, arms, play_once=1, beta=1):\n",
    "        super().__init__(arms, play_once)\n",
    "        self.old_policy = np.ones_like(self.expectations)/self.l\n",
    "        self.beta = beta\n",
    "\n",
    "    def policy(self):\n",
    "        temp = np.exp(self.expectations/self.beta)\n",
    "        new_policy = temp / np.sum(temp, axis=0)\n",
    "\n",
    "        result = np.multiply(new_policy, self.old_policy)\n",
    "        result /= np.sum(result, axis=0)\n",
    "        self.old_policy = result\n",
    "\n",
    "        return result\n",
    "\n",
    "\n",
    "class greedy_with_reccurence(agent):\n",
    "    # alpha = number < 1; will sum over a number of observations and will keep\n",
    "    # osiclating.\n",
    "    # alpha = N will allow the algo to converge to an arm, greedy doesn't\n",
    "    # really need this, kind of always give one answer.\n",
    "\n",
    "    def __init__(self, arms, play_once=1, alpha=1):\n",
    "        super().__init__(arms, play_once)\n",
    "        self.old_policy = np.ones_like(self.expectations)\n",
    "        self.alpha = alpha\n",
    "\n",
    "    def policy(self):\n",
    "        new_policy = np.zeros_like(self.expectations)\n",
    "        new_policy[np.argmax(self.expectations)] = 1\n",
    "\n",
    "        new_policy = (1-self.alpha)*new_policy + self.alpha*self.old_policy\n",
    "\n",
    "        new_policy /= np.sum(new_policy, axis=0)\n",
    "        self.old_policy = new_policy\n",
    "\n",
    "        return new_policy\n",
    "\n",
    "# class magic(agent):\n",
    "#    def __init__(self, arms, play_once=1, exp=1):\n",
    "#        super().__init__(arms, play_once)\n",
    "#        self.old_policy = np.ones_like(self.expectations)/self.l\n",
    "#        self.exp = exp\n",
    "#\n",
    "#    def policy(self):\n",
    "#        new_policy = f(old_policy, g(expectations))\n"
   ]
  },
  {
   "cell_type": "code",
   "execution_count": null,
   "metadata": {
    "collapsed": true
   },
   "outputs": [],
   "source": []
  }
 ],
 "metadata": {
  "kernelspec": {
   "display_name": "Python 3",
   "language": "python",
   "name": "python3"
  },
  "language_info": {
   "codemirror_mode": {
    "name": "ipython",
    "version": 3
   },
   "file_extension": ".py",
   "mimetype": "text/x-python",
   "name": "python",
   "nbconvert_exporter": "python",
   "pygments_lexer": "ipython3",
   "version": "3.5.2"
  }
 },
 "nbformat": 4,
 "nbformat_minor": 2
}
