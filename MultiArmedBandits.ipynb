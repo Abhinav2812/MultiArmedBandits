{
 "cells": [
  {
   "cell_type": "markdown",
   "metadata": {},
   "source": [
    "\n",
    "# Multi Armed Bandits.\n",
    "\n",
    "I decided to code up a few strategies for playing multi armed bandits."
   ]
  },
  {
   "cell_type": "code",
   "execution_count": 1,
   "metadata": {
    "collapsed": true
   },
   "outputs": [],
   "source": [
    "import matplotlib.pyplot as plt\n",
    "import seaborn as sns\n",
    "import numpy as np\n",
    "%matplotlib inline"
   ]
  },
  {
   "cell_type": "code",
   "execution_count": 2,
   "metadata": {
    "collapsed": true
   },
   "outputs": [],
   "source": [
    "import agent_class"
   ]
  },
  {
   "cell_type": "markdown",
   "metadata": {},
   "source": [
    "The agent class has a few agents like:\n",
    "\n",
    "* softmax\n",
    "* ucb\n",
    "* epsilon greedy\n",
    "\n",
    "Works like this :\n",
    "\n",
    "```\n",
    "    Agent1 = agent.agent_name(hyperparameters) \n",
    "    rewards , moves = Agent1(arms, iterations)\n",
    "```\n",
    "\n",
    "where hyperparameters are like ; epsilon in epsilon-greedy , and beta in softmax,\n",
    "\n",
    "##TODO\n",
    "Make the agent return the policy learnt.\n"
   ]
  },
  {
   "cell_type": "code",
   "execution_count": 3,
   "metadata": {
    "collapsed": true
   },
   "outputs": [],
   "source": [
    "import arms"
   ]
  },
  {
   "cell_type": "markdown",
   "metadata": {},
   "source": [
    "Arms class implements the arms the mu and sigma are generated for every object and the rewards follow the normal distribution.\n"
   ]
  },
  {
   "cell_type": "code",
   "execution_count": 4,
   "metadata": {
    "collapsed": true
   },
   "outputs": [],
   "source": [
    "def avg(l):\n",
    "    #gives back the average; used to find average reward\n",
    "    return sum(l)/len(l)"
   ]
  },
  {
   "cell_type": "code",
   "execution_count": 5,
   "metadata": {
    "collapsed": true
   },
   "outputs": [],
   "source": [
    "def maxreward(arms):\n",
    "    a=-100000 \n",
    "    for arm in arms:\n",
    "        a = max(a,arm.mu)\n",
    "    return a"
   ]
  },
  {
   "cell_type": "code",
   "execution_count": 6,
   "metadata": {
    "collapsed": true
   },
   "outputs": [],
   "source": [
    "def test(agents, no_of_arms, iterations):\n",
    "    handles = arms.get_arms(no_of_arms)\n",
    "    for agent in agents:\n",
    "        print(agent.__name__)\n",
    "        rewards, moves = agent(handles, iterations)\n",
    "        print(\"maximum possible reward:\", maxreward(handles))\n",
    "        print(\"average reward:\", avg(rewards))\n",
    "    \n",
    "        #plt.plot(rewards)\n",
    "        #plt.ylabel('Rewards')\n",
    "        #plt.xlabel('Iteration')\n",
    "        #plt.show()\n",
    "    \n",
    "        plt.hist(moves)\n",
    "        plt.title(\"Choices\")\n",
    "        plt.xlabel(\"Arm\")\n",
    "        plt.ylabel(\"Frequency\")\n",
    "        plt.show()\n",
    "        print(\"\\n\")\n",
    "    \n",
    "    "
   ]
  },
  {
   "cell_type": "code",
   "execution_count": 7,
   "metadata": {
    "scrolled": false
   },
   "outputs": [
    {
     "ename": "NameError",
     "evalue": "name 'agent' is not defined",
     "output_type": "error",
     "traceback": [
      "\u001b[0;31m---------------------------------------------------------------------------\u001b[0m",
      "\u001b[0;31mNameError\u001b[0m                                 Traceback (most recent call last)",
      "\u001b[0;32m<ipython-input-7-1c020b1e1599>\u001b[0m in \u001b[0;36m<module>\u001b[0;34m()\u001b[0m\n\u001b[0;32m----> 1\u001b[0;31m \u001b[0mtest\u001b[0m\u001b[0;34m(\u001b[0m\u001b[0;34m[\u001b[0m\u001b[0magent\u001b[0m\u001b[0;34m.\u001b[0m\u001b[0mepsilon_greedy\u001b[0m\u001b[0;34m(\u001b[0m\u001b[0mepsilon\u001b[0m\u001b[0;34m=\u001b[0m\u001b[0;36m0\u001b[0m\u001b[0;34m)\u001b[0m\u001b[0;34m,\u001b[0m \u001b[0magent\u001b[0m\u001b[0;34m.\u001b[0m\u001b[0msoftmax\u001b[0m\u001b[0;34m(\u001b[0m\u001b[0mbeta\u001b[0m\u001b[0;34m=\u001b[0m\u001b[0;36m0.01\u001b[0m\u001b[0;34m)\u001b[0m\u001b[0;34m,\u001b[0m \u001b[0magent\u001b[0m\u001b[0;34m.\u001b[0m\u001b[0mucb\u001b[0m\u001b[0;34m(\u001b[0m\u001b[0;34m)\u001b[0m\u001b[0;34m]\u001b[0m\u001b[0;34m,\u001b[0m \u001b[0mno_of_arms\u001b[0m\u001b[0;34m=\u001b[0m\u001b[0;36m100\u001b[0m\u001b[0;34m,\u001b[0m \u001b[0miterations\u001b[0m\u001b[0;34m=\u001b[0m\u001b[0;36m200\u001b[0m\u001b[0;34m)\u001b[0m\u001b[0;34m\u001b[0m\u001b[0m\n\u001b[0m",
      "\u001b[0;31mNameError\u001b[0m: name 'agent' is not defined"
     ]
    }
   ],
   "source": [
    "test([agent.epsilon_greedy(epsilon=0), agent.softmax(beta=0.01), agent.ucb()], no_of_arms=100, iterations=200)"
   ]
  },
  {
   "cell_type": "code",
   "execution_count": null,
   "metadata": {
    "collapsed": true
   },
   "outputs": [],
   "source": [
    "\n",
    "levers  = "
   ]
  }
 ],
 "metadata": {
  "kernelspec": {
   "display_name": "Python 3",
   "language": "python",
   "name": "python3"
  },
  "language_info": {
   "codemirror_mode": {
    "name": "ipython",
    "version": 3
   },
   "file_extension": ".py",
   "mimetype": "text/x-python",
   "name": "python",
   "nbconvert_exporter": "python",
   "pygments_lexer": "ipython3",
   "version": "3.5.2"
  }
 },
 "nbformat": 4,
 "nbformat_minor": 2
}
